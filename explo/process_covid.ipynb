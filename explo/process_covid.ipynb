{
 "cells": [
  {
   "cell_type": "code",
   "execution_count": null,
   "metadata": {},
   "outputs": [],
   "source": [
    "import pandas as pd\n",
    "import numpy as np\n",
    "df = pd.read_csv('Covid Data.csv')"
   ]
  },
  {
   "cell_type": "code",
   "execution_count": null,
   "metadata": {},
   "outputs": [],
   "source": [
    "print(df.shape)\n",
    "df.head()"
   ]
  },
  {
   "cell_type": "code",
   "execution_count": null,
   "metadata": {},
   "outputs": [],
   "source": [
    "df = df[(df.PNEUMONIA == 1) | (df.PNEUMONIA == 2)]\n",
    "df = df[(df.DIABETES == 1) | (df.DIABETES == 2)]\n",
    "df = df[(df.COPD == 1) | (df.COPD == 2)]\n",
    "df = df[(df.ASTHMA == 1) | (df.ASTHMA == 2)]\n",
    "df = df[(df.INMSUPR == 1) | (df.INMSUPR == 2)]\n",
    "df = df[(df.HIPERTENSION == 1) | (df.HIPERTENSION == 2)]\n",
    "df = df[(df.OTHER_DISEASE == 1) | (df.OTHER_DISEASE == 2)]\n",
    "df = df[(df.CARDIOVASCULAR == 1) | (df.CARDIOVASCULAR == 2)]\n",
    "df = df[(df.OBESITY == 1) | (df.OBESITY == 2)]\n",
    "df = df[(df.RENAL_CHRONIC == 1) | (df.RENAL_CHRONIC == 2)]\n",
    "df = df[(df.TOBACCO == 1) | (df.TOBACCO == 2)]\n",
    "df = df[(df.INTUBED == 1) | (df.INTUBED == 2)]\n",
    "df = df[(df.ICU == 1) | (df.ICU == 2)]\n",
    "df[\"DEATH\"] = [0 if each==\"9999-99-99\" else 1 for each in df.DATE_DIED]\n",
    "df.PREGNANT = df.PREGNANT.replace(97,2)\n",
    "df = df[(df.PREGNANT == 1) | (df.PREGNANT == 2)]\n",
    "df.drop(columns=[\"DATE_DIED\"], inplace=True)\n",
    "print(df.shape)\n",
    "df.head()"
   ]
  },
  {
   "cell_type": "code",
   "execution_count": null,
   "metadata": {},
   "outputs": [],
   "source": [
    "from sklearn.preprocessing import StandardScaler\n",
    "standard_scaler = StandardScaler()\n",
    "df['AGE'] = standard_scaler.fit_transform(df.loc[:,['AGE']])\n",
    "\n",
    "# Subset 1000 rows from the dataframe where the value of the column Diabetes is 1\n",
    "df_test_death = df[df['DEATH'] == 1].sample(n=500, random_state=1)\n",
    "df_test_no_death = df[df['DEATH'] == 0].sample(n=500, random_state=1)\n",
    "\n",
    "# Concatenate the two dataframes\n",
    "df_train = df.sample(n=10000, random_state=1)\n",
    "df_test = pd.concat([df_test_death, df_test_no_death], axis=0)"
   ]
  },
  {
   "cell_type": "code",
   "execution_count": null,
   "metadata": {},
   "outputs": [],
   "source": [
    "# Convert DEATH column to list\n",
    "ground_truth = df_test[\"DEATH\"].tolist()\n",
    "df_test.drop(columns=[\"DEATH\"], inplace=True)"
   ]
  },
  {
   "cell_type": "code",
   "execution_count": null,
   "metadata": {},
   "outputs": [],
   "source": [
    "import pickle\n",
    "# Write dataframe to file\n",
    "df_train.to_csv('covid_train.csv', index=False)\n",
    "df_test.to_csv('covid_test.csv', index=False)\n",
    "print(len(ground_truth))\n",
    "print(df_train.shape)\n",
    "print(df_test.shape)\n",
    "with open(\"ground_truth.pickle\", \"wb\") as f:\n",
    "    pickle.dump(ground_truth, f)"
   ]
  }
 ],
 "metadata": {
  "kernelspec": {
   "display_name": "TD2_ML",
   "language": "python",
   "name": "python3"
  },
  "language_info": {
   "codemirror_mode": {
    "name": "ipython",
    "version": 3
   },
   "file_extension": ".py",
   "mimetype": "text/x-python",
   "name": "python",
   "nbconvert_exporter": "python",
   "pygments_lexer": "ipython3",
   "version": "3.8.15 | packaged by conda-forge | (default, Nov 22 2022, 08:49:35) \n[GCC 10.4.0]"
  },
  "orig_nbformat": 4,
  "vscode": {
   "interpreter": {
    "hash": "4332e181933f75a37612bde606e3f6a5973d00f8b184453988c147666871ccc4"
   }
  }
 },
 "nbformat": 4,
 "nbformat_minor": 2
}

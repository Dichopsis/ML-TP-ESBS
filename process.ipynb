{
 "cells": [
  {
   "cell_type": "code",
   "execution_count": null,
   "metadata": {},
   "outputs": [],
   "source": [
    "import pandas as pd\n",
    "import numpy as np\n",
    "# Read in the data\n",
    "df = pd.read_csv('diabetes_data.csv')\n",
    "df.head()\n",
    "\n",
    "# Subset 1000 rows from the dataframe where the value of the column Diabetes is 1\n",
    "df_diab = df[df['Diabetes'] == 1].sample(n=465, random_state=1)\n",
    "df_nosiab = df[df['Diabetes'] == 0].sample(n=5166, random_state=1)\n",
    "\n",
    "# Concat the two subsetted dataframe\n",
    "df = pd.concat([df_diab, df_nosiab], axis=0)\n",
    "print(df.shape)\n",
    "df.info()"
   ]
  },
  {
   "cell_type": "code",
   "execution_count": null,
   "metadata": {},
   "outputs": [],
   "source": [
    "# Transform column value from 0 to No and 1 to Yes\n",
    "columns_to_transform = ['HighChol', \"CholCheck\"]\n",
    "df['Sex'] = df['Sex'].map({0: 'female', 1: 'male'})\n",
    "df['GenHlth'] = df['GenHlth'].map({1: 'excellent', 2: 'very good', 3: 'good', 4: 'fair', 5: 'poor'})\n",
    "# Transform all columns from columns_to_transform list value from 0 to No and 1 to Yes\n",
    "for column in columns_to_transform:\n",
    "    df[column] = df[column].map({0: 'No', 1: 'Yes'})\n",
    "# If age column value is 4 replace by a random value between 18 and 65\n",
    "tuple_age_replace = ((1, 18, 24), (2, 25, 29), (3, 30, 34), (4, 35, 39), (5, 40, 44), (6, 45, 49), (7, 50, 54), (8, 55, 59), (9, 60, 64), (10, 65, 69), (11, 70, 74), (12, 75, 79), (12, 80, 95))\n",
    "for age in tuple_age_replace:\n",
    "    df['Age'] = df['Age'].replace(age[0], np.random.randint(age[1], age[2]))\n",
    "# Remove 7% of the value in the BMI column\n",
    "df['BMI'] = df['BMI'].apply(lambda x: np.nan if np.random.random() < 0.07 else x)\n",
    "df['Stroke'] = df['Stroke'].apply(lambda x: np.nan if np.random.random() < 0.1 else x)\n",
    "df['Smoker'] = df['Smoker'].apply(lambda x: np.nan if np.random.random() < 0.055 else x)\n",
    "# Save the dataframe to a csv file\n",
    "df.to_csv('diabetes_data_TD.csv', index=False)"
   ]
  }
 ],
 "metadata": {
  "kernelspec": {
   "display_name": "TD2_ML",
   "language": "python",
   "name": "python3"
  },
  "language_info": {
   "codemirror_mode": {
    "name": "ipython",
    "version": 3
   },
   "file_extension": ".py",
   "mimetype": "text/x-python",
   "name": "python",
   "nbconvert_exporter": "python",
   "pygments_lexer": "ipython3",
   "version": "3.8.15"
  },
  "orig_nbformat": 4,
  "vscode": {
   "interpreter": {
    "hash": "4332e181933f75a37612bde606e3f6a5973d00f8b184453988c147666871ccc4"
   }
  }
 },
 "nbformat": 4,
 "nbformat_minor": 2
}
